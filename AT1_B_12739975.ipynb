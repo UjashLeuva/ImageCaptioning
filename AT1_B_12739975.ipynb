{
  "nbformat": 4,
  "nbformat_minor": 0,
  "metadata": {
    "colab": {
      "name": "AT1_B.ipynb",
      "version": "0.3.2",
      "provenance": [],
      "collapsed_sections": []
    },
    "kernelspec": {
      "name": "python3",
      "display_name": "Python 3"
    },
    "accelerator": "GPU"
  },
  "cells": [
    {
      "cell_type": "code",
      "metadata": {
        "id": "qcUgB1rY_2pz",
        "colab_type": "code",
        "colab": {
          "base_uri": "https://localhost:8080/",
          "height": 187
        },
        "outputId": "eab9342d-9d2f-487d-d460-20e2f30e82e1"
      },
      "source": [
        "# Install the packages\n",
        "!pip install -U -q PyDrive\n",
        "!pip install keras"
      ],
      "execution_count": 3,
      "outputs": [
        {
          "output_type": "stream",
          "text": [
            "\u001b[?25l\r\u001b[K     |▎                               | 10kB 18.5MB/s eta 0:00:01\r\u001b[K     |▋                               | 20kB 3.3MB/s eta 0:00:01\r\u001b[K     |█                               | 30kB 4.7MB/s eta 0:00:01\r\u001b[K     |█▎                              | 40kB 3.1MB/s eta 0:00:01\r\u001b[K     |█▋                              | 51kB 3.8MB/s eta 0:00:01\r\u001b[K     |██                              | 61kB 4.5MB/s eta 0:00:01\r\u001b[K     |██▎                             | 71kB 5.2MB/s eta 0:00:01\r\u001b[K     |██▋                             | 81kB 5.9MB/s eta 0:00:01\r\u001b[K     |███                             | 92kB 6.6MB/s eta 0:00:01\r\u001b[K     |███▎                            | 102kB 5.0MB/s eta 0:00:01\r\u001b[K     |███▋                            | 112kB 5.0MB/s eta 0:00:01\r\u001b[K     |████                            | 122kB 5.0MB/s eta 0:00:01\r\u001b[K     |████▎                           | 133kB 5.0MB/s eta 0:00:01\r\u001b[K     |████▋                           | 143kB 5.0MB/s eta 0:00:01\r\u001b[K     |█████                           | 153kB 5.0MB/s eta 0:00:01\r\u001b[K     |█████▎                          | 163kB 5.0MB/s eta 0:00:01\r\u001b[K     |█████▋                          | 174kB 5.0MB/s eta 0:00:01\r\u001b[K     |██████                          | 184kB 5.0MB/s eta 0:00:01\r\u001b[K     |██████▎                         | 194kB 5.0MB/s eta 0:00:01\r\u001b[K     |██████▋                         | 204kB 5.0MB/s eta 0:00:01\r\u001b[K     |███████                         | 215kB 5.0MB/s eta 0:00:01\r\u001b[K     |███████▎                        | 225kB 5.0MB/s eta 0:00:01\r\u001b[K     |███████▋                        | 235kB 5.0MB/s eta 0:00:01\r\u001b[K     |████████                        | 245kB 5.0MB/s eta 0:00:01\r\u001b[K     |████████▎                       | 256kB 5.0MB/s eta 0:00:01\r\u001b[K     |████████▋                       | 266kB 5.0MB/s eta 0:00:01\r\u001b[K     |█████████                       | 276kB 5.0MB/s eta 0:00:01\r\u001b[K     |█████████▎                      | 286kB 5.0MB/s eta 0:00:01\r\u001b[K     |█████████▋                      | 296kB 5.0MB/s eta 0:00:01\r\u001b[K     |██████████                      | 307kB 5.0MB/s eta 0:00:01\r\u001b[K     |██████████▎                     | 317kB 5.0MB/s eta 0:00:01\r\u001b[K     |██████████▋                     | 327kB 5.0MB/s eta 0:00:01\r\u001b[K     |███████████                     | 337kB 5.0MB/s eta 0:00:01\r\u001b[K     |███████████▎                    | 348kB 5.0MB/s eta 0:00:01\r\u001b[K     |███████████▋                    | 358kB 5.0MB/s eta 0:00:01\r\u001b[K     |████████████                    | 368kB 5.0MB/s eta 0:00:01\r\u001b[K     |████████████▎                   | 378kB 5.0MB/s eta 0:00:01\r\u001b[K     |████████████▋                   | 389kB 5.0MB/s eta 0:00:01\r\u001b[K     |█████████████                   | 399kB 5.0MB/s eta 0:00:01\r\u001b[K     |█████████████▎                  | 409kB 5.0MB/s eta 0:00:01\r\u001b[K     |█████████████▋                  | 419kB 5.0MB/s eta 0:00:01\r\u001b[K     |██████████████                  | 430kB 5.0MB/s eta 0:00:01\r\u001b[K     |██████████████▎                 | 440kB 5.0MB/s eta 0:00:01\r\u001b[K     |██████████████▋                 | 450kB 5.0MB/s eta 0:00:01\r\u001b[K     |███████████████                 | 460kB 5.0MB/s eta 0:00:01\r\u001b[K     |███████████████▎                | 471kB 5.0MB/s eta 0:00:01\r\u001b[K     |███████████████▋                | 481kB 5.0MB/s eta 0:00:01\r\u001b[K     |████████████████                | 491kB 5.0MB/s eta 0:00:01\r\u001b[K     |████████████████▎               | 501kB 5.0MB/s eta 0:00:01\r\u001b[K     |████████████████▋               | 512kB 5.0MB/s eta 0:00:01\r\u001b[K     |█████████████████               | 522kB 5.0MB/s eta 0:00:01\r\u001b[K     |█████████████████▎              | 532kB 5.0MB/s eta 0:00:01\r\u001b[K     |█████████████████▋              | 542kB 5.0MB/s eta 0:00:01\r\u001b[K     |██████████████████              | 552kB 5.0MB/s eta 0:00:01\r\u001b[K     |██████████████████▎             | 563kB 5.0MB/s eta 0:00:01\r\u001b[K     |██████████████████▋             | 573kB 5.0MB/s eta 0:00:01\r\u001b[K     |███████████████████             | 583kB 5.0MB/s eta 0:00:01\r\u001b[K     |███████████████████▎            | 593kB 5.0MB/s eta 0:00:01\r\u001b[K     |███████████████████▋            | 604kB 5.0MB/s eta 0:00:01\r\u001b[K     |████████████████████            | 614kB 5.0MB/s eta 0:00:01\r\u001b[K     |████████████████████▎           | 624kB 5.0MB/s eta 0:00:01\r\u001b[K     |████████████████████▋           | 634kB 5.0MB/s eta 0:00:01\r\u001b[K     |█████████████████████           | 645kB 5.0MB/s eta 0:00:01\r\u001b[K     |█████████████████████▎          | 655kB 5.0MB/s eta 0:00:01\r\u001b[K     |█████████████████████▋          | 665kB 5.0MB/s eta 0:00:01\r\u001b[K     |██████████████████████          | 675kB 5.0MB/s eta 0:00:01\r\u001b[K     |██████████████████████▎         | 686kB 5.0MB/s eta 0:00:01\r\u001b[K     |██████████████████████▋         | 696kB 5.0MB/s eta 0:00:01\r\u001b[K     |███████████████████████         | 706kB 5.0MB/s eta 0:00:01\r\u001b[K     |███████████████████████▎        | 716kB 5.0MB/s eta 0:00:01\r\u001b[K     |███████████████████████▋        | 727kB 5.0MB/s eta 0:00:01\r\u001b[K     |████████████████████████        | 737kB 5.0MB/s eta 0:00:01\r\u001b[K     |████████████████████████▎       | 747kB 5.0MB/s eta 0:00:01\r\u001b[K     |████████████████████████▋       | 757kB 5.0MB/s eta 0:00:01\r\u001b[K     |████████████████████████▉       | 768kB 5.0MB/s eta 0:00:01\r\u001b[K     |█████████████████████████▏      | 778kB 5.0MB/s eta 0:00:01\r\u001b[K     |█████████████████████████▌      | 788kB 5.0MB/s eta 0:00:01\r\u001b[K     |█████████████████████████▉      | 798kB 5.0MB/s eta 0:00:01\r\u001b[K     |██████████████████████████▏     | 808kB 5.0MB/s eta 0:00:01\r\u001b[K     |██████████████████████████▌     | 819kB 5.0MB/s eta 0:00:01\r\u001b[K     |██████████████████████████▉     | 829kB 5.0MB/s eta 0:00:01\r\u001b[K     |███████████████████████████▏    | 839kB 5.0MB/s eta 0:00:01\r\u001b[K     |███████████████████████████▌    | 849kB 5.0MB/s eta 0:00:01\r\u001b[K     |███████████████████████████▉    | 860kB 5.0MB/s eta 0:00:01\r\u001b[K     |████████████████████████████▏   | 870kB 5.0MB/s eta 0:00:01\r\u001b[K     |████████████████████████████▌   | 880kB 5.0MB/s eta 0:00:01\r\u001b[K     |████████████████████████████▉   | 890kB 5.0MB/s eta 0:00:01\r\u001b[K     |█████████████████████████████▏  | 901kB 5.0MB/s eta 0:00:01\r\u001b[K     |█████████████████████████████▌  | 911kB 5.0MB/s eta 0:00:01\r\u001b[K     |█████████████████████████████▉  | 921kB 5.0MB/s eta 0:00:01\r\u001b[K     |██████████████████████████████▏ | 931kB 5.0MB/s eta 0:00:01\r\u001b[K     |██████████████████████████████▌ | 942kB 5.0MB/s eta 0:00:01\r\u001b[K     |██████████████████████████████▉ | 952kB 5.0MB/s eta 0:00:01\r\u001b[K     |███████████████████████████████▏| 962kB 5.0MB/s eta 0:00:01\r\u001b[K     |███████████████████████████████▌| 972kB 5.0MB/s eta 0:00:01\r\u001b[K     |███████████████████████████████▉| 983kB 5.0MB/s eta 0:00:01\r\u001b[K     |████████████████████████████████| 993kB 5.0MB/s \n",
            "\u001b[?25h  Building wheel for PyDrive (setup.py) ... \u001b[?25l\u001b[?25hdone\n",
            "Requirement already satisfied: keras in /usr/local/lib/python3.6/dist-packages (2.2.4)\n",
            "Requirement already satisfied: keras-applications>=1.0.6 in /usr/local/lib/python3.6/dist-packages (from keras) (1.0.7)\n",
            "Requirement already satisfied: six>=1.9.0 in /usr/local/lib/python3.6/dist-packages (from keras) (1.12.0)\n",
            "Requirement already satisfied: scipy>=0.14 in /usr/local/lib/python3.6/dist-packages (from keras) (1.3.0)\n",
            "Requirement already satisfied: numpy>=1.9.1 in /usr/local/lib/python3.6/dist-packages (from keras) (1.16.3)\n",
            "Requirement already satisfied: pyyaml in /usr/local/lib/python3.6/dist-packages (from keras) (3.13)\n",
            "Requirement already satisfied: h5py in /usr/local/lib/python3.6/dist-packages (from keras) (2.8.0)\n",
            "Requirement already satisfied: keras-preprocessing>=1.0.5 in /usr/local/lib/python3.6/dist-packages (from keras) (1.0.9)\n"
          ],
          "name": "stdout"
        }
      ]
    },
    {
      "cell_type": "code",
      "metadata": {
        "id": "p7PJI68dA2OJ",
        "colab_type": "code",
        "colab": {
          "base_uri": "https://localhost:8080/",
          "height": 122
        },
        "outputId": "8428911e-df32-42d4-91f7-dc0472ee5981"
      },
      "source": [
        "# Import packages\n",
        "import os\n",
        "import keras\n",
        "import numpy as np\n",
        "from google.colab import auth\n",
        "from pydrive.auth import GoogleAuth\n",
        "from pydrive.drive import GoogleDrive\n",
        "from oauth2client.client import GoogleCredentials\n",
        "from keras.applications.resnet50 import preprocess_input, decode_predictions\n",
        "\n",
        "# Mount data from Google drive\n",
        "from google.colab import drive\n",
        "drive.mount('/content/gdrive', force_remount=True)"
      ],
      "execution_count": 7,
      "outputs": [
        {
          "output_type": "stream",
          "text": [
            "Go to this URL in a browser: https://accounts.google.com/o/oauth2/auth?client_id=947318989803-6bn6qk8qdgf4n4g3pfee6491hc0brc4i.apps.googleusercontent.com&redirect_uri=urn%3Aietf%3Awg%3Aoauth%3A2.0%3Aoob&scope=email%20https%3A%2F%2Fwww.googleapis.com%2Fauth%2Fdocs.test%20https%3A%2F%2Fwww.googleapis.com%2Fauth%2Fdrive%20https%3A%2F%2Fwww.googleapis.com%2Fauth%2Fdrive.photos.readonly%20https%3A%2F%2Fwww.googleapis.com%2Fauth%2Fpeopleapi.readonly&response_type=code\n",
            "\n",
            "Enter your authorization code:\n",
            "··········\n",
            "Mounted at /content/gdrive\n"
          ],
          "name": "stdout"
        }
      ]
    },
    {
      "cell_type": "code",
      "metadata": {
        "id": "ntFD9VWoA4y6",
        "colab_type": "code",
        "colab": {}
      },
      "source": [
        "# Authenticate and create the PyDrive client.\n",
        "auth.authenticate_user()\n",
        "google_auth = GoogleAuth()\n",
        "google_auth.credentials = GoogleCredentials.get_application_default()\n",
        "drive = GoogleDrive(google_auth)"
      ],
      "execution_count": 0,
      "outputs": []
    },
    {
      "cell_type": "code",
      "metadata": {
        "id": "EnV7uI5CA79L",
        "colab_type": "code",
        "colab": {
          "base_uri": "https://localhost:8080/",
          "height": 34
        },
        "outputId": "42f9f4d9-e65e-423d-f63f-a71857985a6c"
      },
      "source": [
        "# Data packages\n",
        "import pandas as pd\n",
        "import numpy as np\n",
        "import matplotlib.pyplot as plt\n",
        "\n",
        "# Image manipulation\n",
        "from PIL import Image\n",
        "\n",
        "# Other system packages\n",
        "import os\n",
        "\n",
        "# Keras functions \n",
        "import keras\n",
        "from keras.models import Sequential, Model\n",
        "from keras.layers import Dense, Conv2D, Activation, Flatten, MaxPool2D, BatchNormalization, Input\n",
        "from keras.optimizers import Adam, SGD, Adadelta\n",
        "from keras.layers.convolutional import Conv2D\n",
        "from keras.layers.convolutional import MaxPooling2D\n",
        "from keras.layers.core import Dropout\n",
        "\n",
        "\n",
        "\n",
        "\n",
        "from keras.applications import VGG19\n",
        "from keras.layers import Flatten, Input\n",
        "from keras.layers.normalization import BatchNormalization\n",
        "from keras.models import Sequential, Model\n",
        "from keras.utils import np_utils\n",
        "from keras.initializers import Constant\n",
        "from keras.regularizers import l2\n",
        "from keras import backend as K\n",
        "\n",
        "# sklearn functions\n",
        "from sklearn.model_selection import train_test_split\n",
        "from sklearn.metrics import classification_report\n",
        "from sklearn.metrics import confusion_matrix\n",
        "from sklearn.metrics import accuracy_score\n",
        "from sklearn.metrics import roc_auc_score\n",
        "\n",
        "# Import Keras Applications\n",
        "from keras.applications.resnet50 import ResNet50\n"
      ],
      "execution_count": 2,
      "outputs": [
        {
          "output_type": "stream",
          "text": [
            "Using TensorFlow backend.\n"
          ],
          "name": "stderr"
        }
      ]
    },
    {
      "cell_type": "code",
      "metadata": {
        "id": "F2q8GhLRBrHO",
        "colab_type": "code",
        "colab": {}
      },
      "source": [
        "def load_mnist(path, kind='train'):\n",
        "   import os\n",
        "   import gzip\n",
        "   import numpy as np\n",
        "\n",
        "   \"\"\"Load MNIST data from `path`\"\"\"\n",
        "   labels_path = os.path.join(path,\n",
        "                              '%s-labels-idx1-ubyte.gz'\n",
        "                              % kind)\n",
        "   images_path = os.path.join(path,\n",
        "                              '%s-images-idx3-ubyte.gz'\n",
        "                              % kind)\n",
        "\n",
        "   with gzip.open(labels_path, 'rb') as lbpath:\n",
        "       labels = np.frombuffer(lbpath.read(), dtype=np.uint8,\n",
        "                              offset=8)\n",
        "\n",
        "   with gzip.open(images_path, 'rb') as imgpath:\n",
        "       images = np.frombuffer(imgpath.read(), dtype=np.uint8,\n",
        "                              offset=16).reshape(len(labels), 784)\n",
        "\n",
        "   return images, labels"
      ],
      "execution_count": 0,
      "outputs": []
    },
    {
      "cell_type": "code",
      "metadata": {
        "id": "COSQSj4PBon-",
        "colab_type": "code",
        "colab": {}
      },
      "source": [
        "\n",
        "X_train, y_train = load_mnist('gdrive/My Drive/data/fashion', kind='train')\n",
        "X_test, y_test = load_mnist('gdrive/My Drive/data/fashion', kind='t10k')\n",
        "\n",
        "y_train = y_train.reshape(y_train.shape[0], 1)\n",
        "y_test = y_test.reshape(y_test.shape[0], 1)\n",
        "\n",
        "\n"
      ],
      "execution_count": 0,
      "outputs": []
    },
    {
      "cell_type": "code",
      "metadata": {
        "id": "01Q5jHhoC3O2",
        "colab_type": "code",
        "colab": {
          "base_uri": "https://localhost:8080/",
          "height": 85
        },
        "outputId": "d13471b4-16ef-460f-a954-c58233a0d8d3"
      },
      "source": [
        "## Reshapes the data sets\n",
        "print(\"Shape of X_train is :\",X_train.shape)\n",
        "print(\"Shape of Y_train is :\",y_train.shape)\n",
        "print(\"Shape of X_test is :\",X_test.shape)\n",
        "print(\"Shape of Y_test is :\",y_test.shape)"
      ],
      "execution_count": 5,
      "outputs": [
        {
          "output_type": "stream",
          "text": [
            "Shape of X_train is : (60000, 784)\n",
            "Shape of Y_train is : (60000, 1)\n",
            "Shape of X_test is : (10000, 784)\n",
            "Shape of Y_test is : (10000, 1)\n"
          ],
          "name": "stdout"
        }
      ]
    },
    {
      "cell_type": "code",
      "metadata": {
        "id": "NR3XdpiNDbrc",
        "colab_type": "code",
        "colab": {}
      },
      "source": [
        "im_rows = 28\n",
        "im_cols = 28\n",
        "batch_size = 512 \n",
        "im_shape = (im_rows, im_cols, 1)"
      ],
      "execution_count": 0,
      "outputs": []
    },
    {
      "cell_type": "code",
      "metadata": {
        "id": "Y0_bMdLADdkM",
        "colab_type": "code",
        "colab": {
          "base_uri": "https://localhost:8080/",
          "height": 51
        },
        "outputId": "aff82f57-6525-44fd-f434-86e7ae9fbecf"
      },
      "source": [
        "\n",
        "X_train = X_train.reshape(X_train.shape[0], *im_shape)\n",
        "X_test = X_test.reshape(X_test.shape[0], *im_shape)\n",
        "\n",
        "print('X_train shape:{}'.format(X_train.shape))\n",
        "print('X_test shape:{}'.format(X_test.shape))\n"
      ],
      "execution_count": 7,
      "outputs": [
        {
          "output_type": "stream",
          "text": [
            "X_train shape:(60000, 28, 28, 1)\n",
            "X_test shape:(10000, 28, 28, 1)\n"
          ],
          "name": "stdout"
        }
      ]
    },
    {
      "cell_type": "code",
      "metadata": {
        "id": "2snnlJT6DhMU",
        "colab_type": "code",
        "colab": {
          "base_uri": "https://localhost:8080/",
          "height": 51
        },
        "outputId": "33b70685-baef-4c2a-c9ea-f8f297b85611"
      },
      "source": [
        "X_train = np.pad(X_train,((0,0),(2,2),(2,2),(1,1)), mode='constant', constant_values=0)\n",
        "X_test = np.pad(X_test,((0,0),(2,2),(2,2),(1,1)), mode='constant', constant_values=0)\n",
        "X_train = np.stack(X_train*3)\n",
        "X_test = np.stack(X_test*3)\n",
        "print('X_train shape:{}'.format(X_train.shape))\n",
        "print('X_test shape:{}'.format(X_test.shape))"
      ],
      "execution_count": 8,
      "outputs": [
        {
          "output_type": "stream",
          "text": [
            "X_train shape:(60000, 32, 32, 3)\n",
            "X_test shape:(10000, 32, 32, 3)\n"
          ],
          "name": "stdout"
        }
      ]
    },
    {
      "cell_type": "code",
      "metadata": {
        "id": "MJiiMoATDjB8",
        "colab_type": "code",
        "colab": {
          "base_uri": "https://localhost:8080/",
          "height": 71
        },
        "outputId": "e3ee7cb2-6f51-4732-b756-eb988cd1f37d"
      },
      "source": [
        "from keras.models import Model\n",
        "from keras.applications.resnet50 import ResNet50\n",
        "from keras.layers import Dense, GlobalAveragePooling2D\n",
        "from keras import backend as K\n",
        "\n",
        "# Load the ResNet50 model with pre-trained weights. \n",
        "# Do not include fully connected layers as num of classes in \n",
        "# Mnist fashion dataset is 10 and the model was trained for 50 classes\n",
        "base_Model = ResNet50(weights='imagenet', include_top=False, input_shape=(32, 32, 3))"
      ],
      "execution_count": 106,
      "outputs": [
        {
          "output_type": "stream",
          "text": [
            "/usr/local/lib/python3.6/dist-packages/keras_applications/resnet50.py:265: UserWarning: The output shape of `ResNet50(include_top=False)` has been changed since Keras 2.2.0.\n",
            "  warnings.warn('The output shape of `ResNet50(include_top=False)` '\n"
          ],
          "name": "stderr"
        }
      ]
    },
    {
      "cell_type": "code",
      "metadata": {
        "id": "40vUgEqtDksl",
        "colab_type": "code",
        "colab": {}
      },
      "source": [
        "# Add a global spatial average pooling layer\n",
        "X = base_Model.output\n",
        "X = GlobalAveragePooling2D()(X)\n",
        "\n",
        "# Fully-connected layer\n",
        "X = Dense(512, activation='relu')(X)\n",
        "\n",
        "# Fully connected output/classification layer\n",
        "predictions = Dense(10, activation='softmax')(X)\n",
        "\n",
        "# Freeze all layers of the ResNet50 model\n",
        "for layer in base_Model.layers:\n",
        "   layer.trainable = False"
      ],
      "execution_count": 0,
      "outputs": []
    },
    {
      "cell_type": "code",
      "metadata": {
        "id": "2Irs0EKpDoy0",
        "colab_type": "code",
        "colab": {
          "base_uri": "https://localhost:8080/",
          "height": 71
        },
        "outputId": "91c8f3fe-4187-4a64-ce31-efa84008374e"
      },
      "source": [
        "# full network with the new layers\n",
        "base_Model_transfer = Model(input=base_Model.input, output=predictions)\n",
        "\n",
        "# model compilation\n",
        "base_Model_transfer.compile(loss='sparse_categorical_crossentropy',\n",
        "            optimizer='adam',\n",
        "            metrics=['accuracy'])\n"
      ],
      "execution_count": 109,
      "outputs": [
        {
          "output_type": "stream",
          "text": [
            "/usr/local/lib/python3.6/dist-packages/ipykernel_launcher.py:1: UserWarning: Update your `Model` call to the Keras 2 API: `Model(inputs=Tensor(\"in..., outputs=Tensor(\"de...)`\n",
            "  \"\"\"Entry point for launching an IPython kernel.\n"
          ],
          "name": "stderr"
        }
      ]
    },
    {
      "cell_type": "code",
      "metadata": {
        "id": "3nuXosMDDuzk",
        "colab_type": "code",
        "colab": {
          "base_uri": "https://localhost:8080/",
          "height": 714
        },
        "outputId": "dd1dcde4-e9e6-4a7b-d76a-b3035dd34916"
      },
      "source": [
        "#Model training\n",
        "history = base_Model_transfer.fit(X_train, y_train,\n",
        "        batch_size=32, epochs=20,\n",
        "        validation_split=0.2,\n",
        "        verbose=1, shuffle=True)\n"
      ],
      "execution_count": 110,
      "outputs": [
        {
          "output_type": "stream",
          "text": [
            "Train on 48000 samples, validate on 12000 samples\n",
            "Epoch 1/20\n",
            "48000/48000 [==============================] - 37s 772us/step - loss: 0.9612 - acc: 0.6577 - val_loss: 4.9134 - val_acc: 0.1858\n",
            "Epoch 2/20\n",
            "48000/48000 [==============================] - 25s 511us/step - loss: 0.7976 - acc: 0.7043 - val_loss: 3.4811 - val_acc: 0.2845\n",
            "Epoch 3/20\n",
            "48000/48000 [==============================] - 25s 516us/step - loss: 0.7609 - acc: 0.7158 - val_loss: 4.4920 - val_acc: 0.2195\n",
            "Epoch 4/20\n",
            "48000/48000 [==============================] - 25s 518us/step - loss: 0.7344 - acc: 0.7261 - val_loss: 4.8014 - val_acc: 0.2438\n",
            "Epoch 5/20\n",
            "48000/48000 [==============================] - 24s 509us/step - loss: 0.7179 - acc: 0.7312 - val_loss: 4.6729 - val_acc: 0.2613\n",
            "Epoch 6/20\n",
            "48000/48000 [==============================] - 24s 509us/step - loss: 0.6966 - acc: 0.7426 - val_loss: 4.7965 - val_acc: 0.2507\n",
            "Epoch 7/20\n",
            "48000/48000 [==============================] - 25s 524us/step - loss: 0.6752 - acc: 0.7471 - val_loss: 3.9023 - val_acc: 0.2455\n",
            "Epoch 8/20\n",
            "48000/48000 [==============================] - 24s 509us/step - loss: 0.6703 - acc: 0.7495 - val_loss: 5.2221 - val_acc: 0.1958\n",
            "Epoch 9/20\n",
            "48000/48000 [==============================] - 24s 508us/step - loss: 0.6636 - acc: 0.7531 - val_loss: 4.8918 - val_acc: 0.2062\n",
            "Epoch 10/20\n",
            "48000/48000 [==============================] - 25s 519us/step - loss: 0.6515 - acc: 0.7573 - val_loss: 5.3555 - val_acc: 0.2003\n",
            "Epoch 11/20\n",
            "48000/48000 [==============================] - 24s 508us/step - loss: 0.6434 - acc: 0.7597 - val_loss: 4.7925 - val_acc: 0.2198\n",
            "Epoch 12/20\n",
            "48000/48000 [==============================] - 24s 508us/step - loss: 0.6314 - acc: 0.7631 - val_loss: 4.6779 - val_acc: 0.2319\n",
            "Epoch 13/20\n",
            "48000/48000 [==============================] - 25s 516us/step - loss: 0.6328 - acc: 0.7642 - val_loss: 4.0065 - val_acc: 0.2552\n",
            "Epoch 14/20\n",
            "48000/48000 [==============================] - 25s 522us/step - loss: 0.6203 - acc: 0.7686 - val_loss: 4.6002 - val_acc: 0.2119\n",
            "Epoch 15/20\n",
            "48000/48000 [==============================] - 24s 506us/step - loss: 0.6179 - acc: 0.7706 - val_loss: 4.7742 - val_acc: 0.2276\n",
            "Epoch 16/20\n",
            "48000/48000 [==============================] - 24s 509us/step - loss: 0.6124 - acc: 0.7734 - val_loss: 4.6274 - val_acc: 0.2240\n",
            "Epoch 17/20\n",
            "48000/48000 [==============================] - 25s 515us/step - loss: 0.6046 - acc: 0.7760 - val_loss: 5.4403 - val_acc: 0.2175\n",
            "Epoch 18/20\n",
            "48000/48000 [==============================] - 24s 508us/step - loss: 0.5964 - acc: 0.7800 - val_loss: 5.0730 - val_acc: 0.2225\n",
            "Epoch 19/20\n",
            "48000/48000 [==============================] - 24s 507us/step - loss: 0.5945 - acc: 0.7789 - val_loss: 5.5345 - val_acc: 0.2161\n",
            "Epoch 20/20\n",
            "48000/48000 [==============================] - 25s 522us/step - loss: 0.5915 - acc: 0.7818 - val_loss: 4.9438 - val_acc: 0.2415\n"
          ],
          "name": "stdout"
        }
      ]
    },
    {
      "cell_type": "code",
      "metadata": {
        "id": "3YRqR_UNF8FK",
        "colab_type": "code",
        "colab": {
          "base_uri": "https://localhost:8080/",
          "height": 51
        },
        "outputId": "dcc1b6a2-635c-493e-fd16-fe2ae0becfe5"
      },
      "source": [
        "# model evaluation\n",
        "score = base_Model_transfer.evaluate(X_test, y_test)\n",
        "print('Accuracy on test set: {}'.format(score))\n",
        "\n",
        "for layer in base_Model_transfer.layers[176:]:\n",
        "   layer.trainable = False\n"
      ],
      "execution_count": 89,
      "outputs": [
        {
          "output_type": "stream",
          "text": [
            "10000/10000 [==============================] - 4s 398us/step\n",
            "Accuracy on test set: [6.441197744750976, 0.2009]\n"
          ],
          "name": "stdout"
        }
      ]
    },
    {
      "cell_type": "code",
      "metadata": {
        "id": "IoZOrMhKGK5y",
        "colab_type": "code",
        "colab": {}
      },
      "source": [
        "#Model compilation\n",
        "base_Model_transfer.compile(loss='sparse_categorical_crossentropy',\n",
        "            optimizer='adam',\n",
        "            metrics=['accuracy'])\n"
      ],
      "execution_count": 0,
      "outputs": []
    },
    {
      "cell_type": "code",
      "metadata": {
        "id": "kOWefFBFWNsG",
        "colab_type": "code",
        "colab": {
          "base_uri": "https://localhost:8080/",
          "height": 7157
        },
        "outputId": "19db1f93-81a7-43d3-b8c9-1262df9e1dca"
      },
      "source": [
        "\n",
        "# Model training\n",
        "history = base_Model_transfer.fit(X_train, y_train,\n",
        "        batch_size=32, epochs=20,\n",
        "        validation_split=0.2,\n",
        "        verbose=1, shuffle=True)\n",
        "\n",
        "base_Model_transfer.summary()"
      ],
      "execution_count": 112,
      "outputs": [
        {
          "output_type": "stream",
          "text": [
            "Train on 48000 samples, validate on 12000 samples\n",
            "Epoch 1/20\n",
            "48000/48000 [==============================] - 37s 770us/step - loss: 0.5965 - acc: 0.7797 - val_loss: 5.5687 - val_acc: 0.1817\n",
            "Epoch 2/20\n",
            "48000/48000 [==============================] - 24s 510us/step - loss: 0.5794 - acc: 0.7886 - val_loss: 6.0344 - val_acc: 0.2068\n",
            "Epoch 3/20\n",
            "48000/48000 [==============================] - 24s 509us/step - loss: 0.5775 - acc: 0.7874 - val_loss: 5.1180 - val_acc: 0.2114\n",
            "Epoch 4/20\n",
            "48000/48000 [==============================] - 25s 521us/step - loss: 0.5732 - acc: 0.7903 - val_loss: 6.1461 - val_acc: 0.1971\n",
            "Epoch 5/20\n",
            "48000/48000 [==============================] - 24s 507us/step - loss: 0.5670 - acc: 0.7907 - val_loss: 5.8857 - val_acc: 0.1908\n",
            "Epoch 6/20\n",
            "48000/48000 [==============================] - 24s 506us/step - loss: 0.5689 - acc: 0.7910 - val_loss: 6.2694 - val_acc: 0.2052\n",
            "Epoch 7/20\n",
            "48000/48000 [==============================] - 25s 518us/step - loss: 0.5613 - acc: 0.7949 - val_loss: 6.8730 - val_acc: 0.1980\n",
            "Epoch 8/20\n",
            "48000/48000 [==============================] - 24s 506us/step - loss: 0.5598 - acc: 0.7949 - val_loss: 5.9703 - val_acc: 0.2062\n",
            "Epoch 9/20\n",
            "48000/48000 [==============================] - 24s 505us/step - loss: 0.5493 - acc: 0.7964 - val_loss: 5.7201 - val_acc: 0.1713\n",
            "Epoch 10/20\n",
            "48000/48000 [==============================] - 25s 521us/step - loss: 0.5547 - acc: 0.7967 - val_loss: 5.7684 - val_acc: 0.2082\n",
            "Epoch 11/20\n",
            "48000/48000 [==============================] - 25s 511us/step - loss: 0.5442 - acc: 0.8023 - val_loss: 5.3507 - val_acc: 0.1818\n",
            "Epoch 12/20\n",
            "48000/48000 [==============================] - 24s 506us/step - loss: 0.5477 - acc: 0.8012 - val_loss: 5.3930 - val_acc: 0.1736\n",
            "Epoch 13/20\n",
            "48000/48000 [==============================] - 24s 506us/step - loss: 0.5442 - acc: 0.8014 - val_loss: 6.6063 - val_acc: 0.1783\n",
            "Epoch 14/20\n",
            "48000/48000 [==============================] - 25s 517us/step - loss: 0.5372 - acc: 0.8031 - val_loss: 5.6228 - val_acc: 0.1887\n",
            "Epoch 15/20\n",
            "48000/48000 [==============================] - 24s 505us/step - loss: 0.5304 - acc: 0.8077 - val_loss: 5.8428 - val_acc: 0.1990\n",
            "Epoch 16/20\n",
            "48000/48000 [==============================] - 24s 509us/step - loss: 0.5356 - acc: 0.8046 - val_loss: 5.9753 - val_acc: 0.2102\n",
            "Epoch 17/20\n",
            "48000/48000 [==============================] - 25s 526us/step - loss: 0.5307 - acc: 0.8052 - val_loss: 6.3816 - val_acc: 0.1663\n",
            "Epoch 18/20\n",
            "48000/48000 [==============================] - 24s 504us/step - loss: 0.5215 - acc: 0.8076 - val_loss: 6.6206 - val_acc: 0.1921\n",
            "Epoch 19/20\n",
            "48000/48000 [==============================] - 24s 505us/step - loss: 0.5234 - acc: 0.8085 - val_loss: 7.4780 - val_acc: 0.1971\n",
            "Epoch 20/20\n",
            "48000/48000 [==============================] - 25s 517us/step - loss: 0.5206 - acc: 0.8116 - val_loss: 6.2606 - val_acc: 0.1870\n",
            "__________________________________________________________________________________________________\n",
            "Layer (type)                    Output Shape         Param #     Connected to                     \n",
            "==================================================================================================\n",
            "input_8 (InputLayer)            (None, 32, 32, 3)    0                                            \n",
            "__________________________________________________________________________________________________\n",
            "conv1_pad (ZeroPadding2D)       (None, 38, 38, 3)    0           input_8[0][0]                    \n",
            "__________________________________________________________________________________________________\n",
            "conv1 (Conv2D)                  (None, 16, 16, 64)   9472        conv1_pad[0][0]                  \n",
            "__________________________________________________________________________________________________\n",
            "bn_conv1 (BatchNormalization)   (None, 16, 16, 64)   256         conv1[0][0]                      \n",
            "__________________________________________________________________________________________________\n",
            "activation_344 (Activation)     (None, 16, 16, 64)   0           bn_conv1[0][0]                   \n",
            "__________________________________________________________________________________________________\n",
            "pool1_pad (ZeroPadding2D)       (None, 18, 18, 64)   0           activation_344[0][0]             \n",
            "__________________________________________________________________________________________________\n",
            "max_pooling2d_8 (MaxPooling2D)  (None, 8, 8, 64)     0           pool1_pad[0][0]                  \n",
            "__________________________________________________________________________________________________\n",
            "res2a_branch2a (Conv2D)         (None, 8, 8, 64)     4160        max_pooling2d_8[0][0]            \n",
            "__________________________________________________________________________________________________\n",
            "bn2a_branch2a (BatchNormalizati (None, 8, 8, 64)     256         res2a_branch2a[0][0]             \n",
            "__________________________________________________________________________________________________\n",
            "activation_345 (Activation)     (None, 8, 8, 64)     0           bn2a_branch2a[0][0]              \n",
            "__________________________________________________________________________________________________\n",
            "res2a_branch2b (Conv2D)         (None, 8, 8, 64)     36928       activation_345[0][0]             \n",
            "__________________________________________________________________________________________________\n",
            "bn2a_branch2b (BatchNormalizati (None, 8, 8, 64)     256         res2a_branch2b[0][0]             \n",
            "__________________________________________________________________________________________________\n",
            "activation_346 (Activation)     (None, 8, 8, 64)     0           bn2a_branch2b[0][0]              \n",
            "__________________________________________________________________________________________________\n",
            "res2a_branch2c (Conv2D)         (None, 8, 8, 256)    16640       activation_346[0][0]             \n",
            "__________________________________________________________________________________________________\n",
            "res2a_branch1 (Conv2D)          (None, 8, 8, 256)    16640       max_pooling2d_8[0][0]            \n",
            "__________________________________________________________________________________________________\n",
            "bn2a_branch2c (BatchNormalizati (None, 8, 8, 256)    1024        res2a_branch2c[0][0]             \n",
            "__________________________________________________________________________________________________\n",
            "bn2a_branch1 (BatchNormalizatio (None, 8, 8, 256)    1024        res2a_branch1[0][0]              \n",
            "__________________________________________________________________________________________________\n",
            "add_113 (Add)                   (None, 8, 8, 256)    0           bn2a_branch2c[0][0]              \n",
            "                                                                 bn2a_branch1[0][0]               \n",
            "__________________________________________________________________________________________________\n",
            "activation_347 (Activation)     (None, 8, 8, 256)    0           add_113[0][0]                    \n",
            "__________________________________________________________________________________________________\n",
            "res2b_branch2a (Conv2D)         (None, 8, 8, 64)     16448       activation_347[0][0]             \n",
            "__________________________________________________________________________________________________\n",
            "bn2b_branch2a (BatchNormalizati (None, 8, 8, 64)     256         res2b_branch2a[0][0]             \n",
            "__________________________________________________________________________________________________\n",
            "activation_348 (Activation)     (None, 8, 8, 64)     0           bn2b_branch2a[0][0]              \n",
            "__________________________________________________________________________________________________\n",
            "res2b_branch2b (Conv2D)         (None, 8, 8, 64)     36928       activation_348[0][0]             \n",
            "__________________________________________________________________________________________________\n",
            "bn2b_branch2b (BatchNormalizati (None, 8, 8, 64)     256         res2b_branch2b[0][0]             \n",
            "__________________________________________________________________________________________________\n",
            "activation_349 (Activation)     (None, 8, 8, 64)     0           bn2b_branch2b[0][0]              \n",
            "__________________________________________________________________________________________________\n",
            "res2b_branch2c (Conv2D)         (None, 8, 8, 256)    16640       activation_349[0][0]             \n",
            "__________________________________________________________________________________________________\n",
            "bn2b_branch2c (BatchNormalizati (None, 8, 8, 256)    1024        res2b_branch2c[0][0]             \n",
            "__________________________________________________________________________________________________\n",
            "add_114 (Add)                   (None, 8, 8, 256)    0           bn2b_branch2c[0][0]              \n",
            "                                                                 activation_347[0][0]             \n",
            "__________________________________________________________________________________________________\n",
            "activation_350 (Activation)     (None, 8, 8, 256)    0           add_114[0][0]                    \n",
            "__________________________________________________________________________________________________\n",
            "res2c_branch2a (Conv2D)         (None, 8, 8, 64)     16448       activation_350[0][0]             \n",
            "__________________________________________________________________________________________________\n",
            "bn2c_branch2a (BatchNormalizati (None, 8, 8, 64)     256         res2c_branch2a[0][0]             \n",
            "__________________________________________________________________________________________________\n",
            "activation_351 (Activation)     (None, 8, 8, 64)     0           bn2c_branch2a[0][0]              \n",
            "__________________________________________________________________________________________________\n",
            "res2c_branch2b (Conv2D)         (None, 8, 8, 64)     36928       activation_351[0][0]             \n",
            "__________________________________________________________________________________________________\n",
            "bn2c_branch2b (BatchNormalizati (None, 8, 8, 64)     256         res2c_branch2b[0][0]             \n",
            "__________________________________________________________________________________________________\n",
            "activation_352 (Activation)     (None, 8, 8, 64)     0           bn2c_branch2b[0][0]              \n",
            "__________________________________________________________________________________________________\n",
            "res2c_branch2c (Conv2D)         (None, 8, 8, 256)    16640       activation_352[0][0]             \n",
            "__________________________________________________________________________________________________\n",
            "bn2c_branch2c (BatchNormalizati (None, 8, 8, 256)    1024        res2c_branch2c[0][0]             \n",
            "__________________________________________________________________________________________________\n",
            "add_115 (Add)                   (None, 8, 8, 256)    0           bn2c_branch2c[0][0]              \n",
            "                                                                 activation_350[0][0]             \n",
            "__________________________________________________________________________________________________\n",
            "activation_353 (Activation)     (None, 8, 8, 256)    0           add_115[0][0]                    \n",
            "__________________________________________________________________________________________________\n",
            "res3a_branch2a (Conv2D)         (None, 4, 4, 128)    32896       activation_353[0][0]             \n",
            "__________________________________________________________________________________________________\n",
            "bn3a_branch2a (BatchNormalizati (None, 4, 4, 128)    512         res3a_branch2a[0][0]             \n",
            "__________________________________________________________________________________________________\n",
            "activation_354 (Activation)     (None, 4, 4, 128)    0           bn3a_branch2a[0][0]              \n",
            "__________________________________________________________________________________________________\n",
            "res3a_branch2b (Conv2D)         (None, 4, 4, 128)    147584      activation_354[0][0]             \n",
            "__________________________________________________________________________________________________\n",
            "bn3a_branch2b (BatchNormalizati (None, 4, 4, 128)    512         res3a_branch2b[0][0]             \n",
            "__________________________________________________________________________________________________\n",
            "activation_355 (Activation)     (None, 4, 4, 128)    0           bn3a_branch2b[0][0]              \n",
            "__________________________________________________________________________________________________\n",
            "res3a_branch2c (Conv2D)         (None, 4, 4, 512)    66048       activation_355[0][0]             \n",
            "__________________________________________________________________________________________________\n",
            "res3a_branch1 (Conv2D)          (None, 4, 4, 512)    131584      activation_353[0][0]             \n",
            "__________________________________________________________________________________________________\n",
            "bn3a_branch2c (BatchNormalizati (None, 4, 4, 512)    2048        res3a_branch2c[0][0]             \n",
            "__________________________________________________________________________________________________\n",
            "bn3a_branch1 (BatchNormalizatio (None, 4, 4, 512)    2048        res3a_branch1[0][0]              \n",
            "__________________________________________________________________________________________________\n",
            "add_116 (Add)                   (None, 4, 4, 512)    0           bn3a_branch2c[0][0]              \n",
            "                                                                 bn3a_branch1[0][0]               \n",
            "__________________________________________________________________________________________________\n",
            "activation_356 (Activation)     (None, 4, 4, 512)    0           add_116[0][0]                    \n",
            "__________________________________________________________________________________________________\n",
            "res3b_branch2a (Conv2D)         (None, 4, 4, 128)    65664       activation_356[0][0]             \n",
            "__________________________________________________________________________________________________\n",
            "bn3b_branch2a (BatchNormalizati (None, 4, 4, 128)    512         res3b_branch2a[0][0]             \n",
            "__________________________________________________________________________________________________\n",
            "activation_357 (Activation)     (None, 4, 4, 128)    0           bn3b_branch2a[0][0]              \n",
            "__________________________________________________________________________________________________\n",
            "res3b_branch2b (Conv2D)         (None, 4, 4, 128)    147584      activation_357[0][0]             \n",
            "__________________________________________________________________________________________________\n",
            "bn3b_branch2b (BatchNormalizati (None, 4, 4, 128)    512         res3b_branch2b[0][0]             \n",
            "__________________________________________________________________________________________________\n",
            "activation_358 (Activation)     (None, 4, 4, 128)    0           bn3b_branch2b[0][0]              \n",
            "__________________________________________________________________________________________________\n",
            "res3b_branch2c (Conv2D)         (None, 4, 4, 512)    66048       activation_358[0][0]             \n",
            "__________________________________________________________________________________________________\n",
            "bn3b_branch2c (BatchNormalizati (None, 4, 4, 512)    2048        res3b_branch2c[0][0]             \n",
            "__________________________________________________________________________________________________\n",
            "add_117 (Add)                   (None, 4, 4, 512)    0           bn3b_branch2c[0][0]              \n",
            "                                                                 activation_356[0][0]             \n",
            "__________________________________________________________________________________________________\n",
            "activation_359 (Activation)     (None, 4, 4, 512)    0           add_117[0][0]                    \n",
            "__________________________________________________________________________________________________\n",
            "res3c_branch2a (Conv2D)         (None, 4, 4, 128)    65664       activation_359[0][0]             \n",
            "__________________________________________________________________________________________________\n",
            "bn3c_branch2a (BatchNormalizati (None, 4, 4, 128)    512         res3c_branch2a[0][0]             \n",
            "__________________________________________________________________________________________________\n",
            "activation_360 (Activation)     (None, 4, 4, 128)    0           bn3c_branch2a[0][0]              \n",
            "__________________________________________________________________________________________________\n",
            "res3c_branch2b (Conv2D)         (None, 4, 4, 128)    147584      activation_360[0][0]             \n",
            "__________________________________________________________________________________________________\n",
            "bn3c_branch2b (BatchNormalizati (None, 4, 4, 128)    512         res3c_branch2b[0][0]             \n",
            "__________________________________________________________________________________________________\n",
            "activation_361 (Activation)     (None, 4, 4, 128)    0           bn3c_branch2b[0][0]              \n",
            "__________________________________________________________________________________________________\n",
            "res3c_branch2c (Conv2D)         (None, 4, 4, 512)    66048       activation_361[0][0]             \n",
            "__________________________________________________________________________________________________\n",
            "bn3c_branch2c (BatchNormalizati (None, 4, 4, 512)    2048        res3c_branch2c[0][0]             \n",
            "__________________________________________________________________________________________________\n",
            "add_118 (Add)                   (None, 4, 4, 512)    0           bn3c_branch2c[0][0]              \n",
            "                                                                 activation_359[0][0]             \n",
            "__________________________________________________________________________________________________\n",
            "activation_362 (Activation)     (None, 4, 4, 512)    0           add_118[0][0]                    \n",
            "__________________________________________________________________________________________________\n",
            "res3d_branch2a (Conv2D)         (None, 4, 4, 128)    65664       activation_362[0][0]             \n",
            "__________________________________________________________________________________________________\n",
            "bn3d_branch2a (BatchNormalizati (None, 4, 4, 128)    512         res3d_branch2a[0][0]             \n",
            "__________________________________________________________________________________________________\n",
            "activation_363 (Activation)     (None, 4, 4, 128)    0           bn3d_branch2a[0][0]              \n",
            "__________________________________________________________________________________________________\n",
            "res3d_branch2b (Conv2D)         (None, 4, 4, 128)    147584      activation_363[0][0]             \n",
            "__________________________________________________________________________________________________\n",
            "bn3d_branch2b (BatchNormalizati (None, 4, 4, 128)    512         res3d_branch2b[0][0]             \n",
            "__________________________________________________________________________________________________\n",
            "activation_364 (Activation)     (None, 4, 4, 128)    0           bn3d_branch2b[0][0]              \n",
            "__________________________________________________________________________________________________\n",
            "res3d_branch2c (Conv2D)         (None, 4, 4, 512)    66048       activation_364[0][0]             \n",
            "__________________________________________________________________________________________________\n",
            "bn3d_branch2c (BatchNormalizati (None, 4, 4, 512)    2048        res3d_branch2c[0][0]             \n",
            "__________________________________________________________________________________________________\n",
            "add_119 (Add)                   (None, 4, 4, 512)    0           bn3d_branch2c[0][0]              \n",
            "                                                                 activation_362[0][0]             \n",
            "__________________________________________________________________________________________________\n",
            "activation_365 (Activation)     (None, 4, 4, 512)    0           add_119[0][0]                    \n",
            "__________________________________________________________________________________________________\n",
            "res4a_branch2a (Conv2D)         (None, 2, 2, 256)    131328      activation_365[0][0]             \n",
            "__________________________________________________________________________________________________\n",
            "bn4a_branch2a (BatchNormalizati (None, 2, 2, 256)    1024        res4a_branch2a[0][0]             \n",
            "__________________________________________________________________________________________________\n",
            "activation_366 (Activation)     (None, 2, 2, 256)    0           bn4a_branch2a[0][0]              \n",
            "__________________________________________________________________________________________________\n",
            "res4a_branch2b (Conv2D)         (None, 2, 2, 256)    590080      activation_366[0][0]             \n",
            "__________________________________________________________________________________________________\n",
            "bn4a_branch2b (BatchNormalizati (None, 2, 2, 256)    1024        res4a_branch2b[0][0]             \n",
            "__________________________________________________________________________________________________\n",
            "activation_367 (Activation)     (None, 2, 2, 256)    0           bn4a_branch2b[0][0]              \n",
            "__________________________________________________________________________________________________\n",
            "res4a_branch2c (Conv2D)         (None, 2, 2, 1024)   263168      activation_367[0][0]             \n",
            "__________________________________________________________________________________________________\n",
            "res4a_branch1 (Conv2D)          (None, 2, 2, 1024)   525312      activation_365[0][0]             \n",
            "__________________________________________________________________________________________________\n",
            "bn4a_branch2c (BatchNormalizati (None, 2, 2, 1024)   4096        res4a_branch2c[0][0]             \n",
            "__________________________________________________________________________________________________\n",
            "bn4a_branch1 (BatchNormalizatio (None, 2, 2, 1024)   4096        res4a_branch1[0][0]              \n",
            "__________________________________________________________________________________________________\n",
            "add_120 (Add)                   (None, 2, 2, 1024)   0           bn4a_branch2c[0][0]              \n",
            "                                                                 bn4a_branch1[0][0]               \n",
            "__________________________________________________________________________________________________\n",
            "activation_368 (Activation)     (None, 2, 2, 1024)   0           add_120[0][0]                    \n",
            "__________________________________________________________________________________________________\n",
            "res4b_branch2a (Conv2D)         (None, 2, 2, 256)    262400      activation_368[0][0]             \n",
            "__________________________________________________________________________________________________\n",
            "bn4b_branch2a (BatchNormalizati (None, 2, 2, 256)    1024        res4b_branch2a[0][0]             \n",
            "__________________________________________________________________________________________________\n",
            "activation_369 (Activation)     (None, 2, 2, 256)    0           bn4b_branch2a[0][0]              \n",
            "__________________________________________________________________________________________________\n",
            "res4b_branch2b (Conv2D)         (None, 2, 2, 256)    590080      activation_369[0][0]             \n",
            "__________________________________________________________________________________________________\n",
            "bn4b_branch2b (BatchNormalizati (None, 2, 2, 256)    1024        res4b_branch2b[0][0]             \n",
            "__________________________________________________________________________________________________\n",
            "activation_370 (Activation)     (None, 2, 2, 256)    0           bn4b_branch2b[0][0]              \n",
            "__________________________________________________________________________________________________\n",
            "res4b_branch2c (Conv2D)         (None, 2, 2, 1024)   263168      activation_370[0][0]             \n",
            "__________________________________________________________________________________________________\n",
            "bn4b_branch2c (BatchNormalizati (None, 2, 2, 1024)   4096        res4b_branch2c[0][0]             \n",
            "__________________________________________________________________________________________________\n",
            "add_121 (Add)                   (None, 2, 2, 1024)   0           bn4b_branch2c[0][0]              \n",
            "                                                                 activation_368[0][0]             \n",
            "__________________________________________________________________________________________________\n",
            "activation_371 (Activation)     (None, 2, 2, 1024)   0           add_121[0][0]                    \n",
            "__________________________________________________________________________________________________\n",
            "res4c_branch2a (Conv2D)         (None, 2, 2, 256)    262400      activation_371[0][0]             \n",
            "__________________________________________________________________________________________________\n",
            "bn4c_branch2a (BatchNormalizati (None, 2, 2, 256)    1024        res4c_branch2a[0][0]             \n",
            "__________________________________________________________________________________________________\n",
            "activation_372 (Activation)     (None, 2, 2, 256)    0           bn4c_branch2a[0][0]              \n",
            "__________________________________________________________________________________________________\n",
            "res4c_branch2b (Conv2D)         (None, 2, 2, 256)    590080      activation_372[0][0]             \n",
            "__________________________________________________________________________________________________\n",
            "bn4c_branch2b (BatchNormalizati (None, 2, 2, 256)    1024        res4c_branch2b[0][0]             \n",
            "__________________________________________________________________________________________________\n",
            "activation_373 (Activation)     (None, 2, 2, 256)    0           bn4c_branch2b[0][0]              \n",
            "__________________________________________________________________________________________________\n",
            "res4c_branch2c (Conv2D)         (None, 2, 2, 1024)   263168      activation_373[0][0]             \n",
            "__________________________________________________________________________________________________\n",
            "bn4c_branch2c (BatchNormalizati (None, 2, 2, 1024)   4096        res4c_branch2c[0][0]             \n",
            "__________________________________________________________________________________________________\n",
            "add_122 (Add)                   (None, 2, 2, 1024)   0           bn4c_branch2c[0][0]              \n",
            "                                                                 activation_371[0][0]             \n",
            "__________________________________________________________________________________________________\n",
            "activation_374 (Activation)     (None, 2, 2, 1024)   0           add_122[0][0]                    \n",
            "__________________________________________________________________________________________________\n",
            "res4d_branch2a (Conv2D)         (None, 2, 2, 256)    262400      activation_374[0][0]             \n",
            "__________________________________________________________________________________________________\n",
            "bn4d_branch2a (BatchNormalizati (None, 2, 2, 256)    1024        res4d_branch2a[0][0]             \n",
            "__________________________________________________________________________________________________\n",
            "activation_375 (Activation)     (None, 2, 2, 256)    0           bn4d_branch2a[0][0]              \n",
            "__________________________________________________________________________________________________\n",
            "res4d_branch2b (Conv2D)         (None, 2, 2, 256)    590080      activation_375[0][0]             \n",
            "__________________________________________________________________________________________________\n",
            "bn4d_branch2b (BatchNormalizati (None, 2, 2, 256)    1024        res4d_branch2b[0][0]             \n",
            "__________________________________________________________________________________________________\n",
            "activation_376 (Activation)     (None, 2, 2, 256)    0           bn4d_branch2b[0][0]              \n",
            "__________________________________________________________________________________________________\n",
            "res4d_branch2c (Conv2D)         (None, 2, 2, 1024)   263168      activation_376[0][0]             \n",
            "__________________________________________________________________________________________________\n",
            "bn4d_branch2c (BatchNormalizati (None, 2, 2, 1024)   4096        res4d_branch2c[0][0]             \n",
            "__________________________________________________________________________________________________\n",
            "add_123 (Add)                   (None, 2, 2, 1024)   0           bn4d_branch2c[0][0]              \n",
            "                                                                 activation_374[0][0]             \n",
            "__________________________________________________________________________________________________\n",
            "activation_377 (Activation)     (None, 2, 2, 1024)   0           add_123[0][0]                    \n",
            "__________________________________________________________________________________________________\n",
            "res4e_branch2a (Conv2D)         (None, 2, 2, 256)    262400      activation_377[0][0]             \n",
            "__________________________________________________________________________________________________\n",
            "bn4e_branch2a (BatchNormalizati (None, 2, 2, 256)    1024        res4e_branch2a[0][0]             \n",
            "__________________________________________________________________________________________________\n",
            "activation_378 (Activation)     (None, 2, 2, 256)    0           bn4e_branch2a[0][0]              \n",
            "__________________________________________________________________________________________________\n",
            "res4e_branch2b (Conv2D)         (None, 2, 2, 256)    590080      activation_378[0][0]             \n",
            "__________________________________________________________________________________________________\n",
            "bn4e_branch2b (BatchNormalizati (None, 2, 2, 256)    1024        res4e_branch2b[0][0]             \n",
            "__________________________________________________________________________________________________\n",
            "activation_379 (Activation)     (None, 2, 2, 256)    0           bn4e_branch2b[0][0]              \n",
            "__________________________________________________________________________________________________\n",
            "res4e_branch2c (Conv2D)         (None, 2, 2, 1024)   263168      activation_379[0][0]             \n",
            "__________________________________________________________________________________________________\n",
            "bn4e_branch2c (BatchNormalizati (None, 2, 2, 1024)   4096        res4e_branch2c[0][0]             \n",
            "__________________________________________________________________________________________________\n",
            "add_124 (Add)                   (None, 2, 2, 1024)   0           bn4e_branch2c[0][0]              \n",
            "                                                                 activation_377[0][0]             \n",
            "__________________________________________________________________________________________________\n",
            "activation_380 (Activation)     (None, 2, 2, 1024)   0           add_124[0][0]                    \n",
            "__________________________________________________________________________________________________\n",
            "res4f_branch2a (Conv2D)         (None, 2, 2, 256)    262400      activation_380[0][0]             \n",
            "__________________________________________________________________________________________________\n",
            "bn4f_branch2a (BatchNormalizati (None, 2, 2, 256)    1024        res4f_branch2a[0][0]             \n",
            "__________________________________________________________________________________________________\n",
            "activation_381 (Activation)     (None, 2, 2, 256)    0           bn4f_branch2a[0][0]              \n",
            "__________________________________________________________________________________________________\n",
            "res4f_branch2b (Conv2D)         (None, 2, 2, 256)    590080      activation_381[0][0]             \n",
            "__________________________________________________________________________________________________\n",
            "bn4f_branch2b (BatchNormalizati (None, 2, 2, 256)    1024        res4f_branch2b[0][0]             \n",
            "__________________________________________________________________________________________________\n",
            "activation_382 (Activation)     (None, 2, 2, 256)    0           bn4f_branch2b[0][0]              \n",
            "__________________________________________________________________________________________________\n",
            "res4f_branch2c (Conv2D)         (None, 2, 2, 1024)   263168      activation_382[0][0]             \n",
            "__________________________________________________________________________________________________\n",
            "bn4f_branch2c (BatchNormalizati (None, 2, 2, 1024)   4096        res4f_branch2c[0][0]             \n",
            "__________________________________________________________________________________________________\n",
            "add_125 (Add)                   (None, 2, 2, 1024)   0           bn4f_branch2c[0][0]              \n",
            "                                                                 activation_380[0][0]             \n",
            "__________________________________________________________________________________________________\n",
            "activation_383 (Activation)     (None, 2, 2, 1024)   0           add_125[0][0]                    \n",
            "__________________________________________________________________________________________________\n",
            "res5a_branch2a (Conv2D)         (None, 1, 1, 512)    524800      activation_383[0][0]             \n",
            "__________________________________________________________________________________________________\n",
            "bn5a_branch2a (BatchNormalizati (None, 1, 1, 512)    2048        res5a_branch2a[0][0]             \n",
            "__________________________________________________________________________________________________\n",
            "activation_384 (Activation)     (None, 1, 1, 512)    0           bn5a_branch2a[0][0]              \n",
            "__________________________________________________________________________________________________\n",
            "res5a_branch2b (Conv2D)         (None, 1, 1, 512)    2359808     activation_384[0][0]             \n",
            "__________________________________________________________________________________________________\n",
            "bn5a_branch2b (BatchNormalizati (None, 1, 1, 512)    2048        res5a_branch2b[0][0]             \n",
            "__________________________________________________________________________________________________\n",
            "activation_385 (Activation)     (None, 1, 1, 512)    0           bn5a_branch2b[0][0]              \n",
            "__________________________________________________________________________________________________\n",
            "res5a_branch2c (Conv2D)         (None, 1, 1, 2048)   1050624     activation_385[0][0]             \n",
            "__________________________________________________________________________________________________\n",
            "res5a_branch1 (Conv2D)          (None, 1, 1, 2048)   2099200     activation_383[0][0]             \n",
            "__________________________________________________________________________________________________\n",
            "bn5a_branch2c (BatchNormalizati (None, 1, 1, 2048)   8192        res5a_branch2c[0][0]             \n",
            "__________________________________________________________________________________________________\n",
            "bn5a_branch1 (BatchNormalizatio (None, 1, 1, 2048)   8192        res5a_branch1[0][0]              \n",
            "__________________________________________________________________________________________________\n",
            "add_126 (Add)                   (None, 1, 1, 2048)   0           bn5a_branch2c[0][0]              \n",
            "                                                                 bn5a_branch1[0][0]               \n",
            "__________________________________________________________________________________________________\n",
            "activation_386 (Activation)     (None, 1, 1, 2048)   0           add_126[0][0]                    \n",
            "__________________________________________________________________________________________________\n",
            "res5b_branch2a (Conv2D)         (None, 1, 1, 512)    1049088     activation_386[0][0]             \n",
            "__________________________________________________________________________________________________\n",
            "bn5b_branch2a (BatchNormalizati (None, 1, 1, 512)    2048        res5b_branch2a[0][0]             \n",
            "__________________________________________________________________________________________________\n",
            "activation_387 (Activation)     (None, 1, 1, 512)    0           bn5b_branch2a[0][0]              \n",
            "__________________________________________________________________________________________________\n",
            "res5b_branch2b (Conv2D)         (None, 1, 1, 512)    2359808     activation_387[0][0]             \n",
            "__________________________________________________________________________________________________\n",
            "bn5b_branch2b (BatchNormalizati (None, 1, 1, 512)    2048        res5b_branch2b[0][0]             \n",
            "__________________________________________________________________________________________________\n",
            "activation_388 (Activation)     (None, 1, 1, 512)    0           bn5b_branch2b[0][0]              \n",
            "__________________________________________________________________________________________________\n",
            "res5b_branch2c (Conv2D)         (None, 1, 1, 2048)   1050624     activation_388[0][0]             \n",
            "__________________________________________________________________________________________________\n",
            "bn5b_branch2c (BatchNormalizati (None, 1, 1, 2048)   8192        res5b_branch2c[0][0]             \n",
            "__________________________________________________________________________________________________\n",
            "add_127 (Add)                   (None, 1, 1, 2048)   0           bn5b_branch2c[0][0]              \n",
            "                                                                 activation_386[0][0]             \n",
            "__________________________________________________________________________________________________\n",
            "activation_389 (Activation)     (None, 1, 1, 2048)   0           add_127[0][0]                    \n",
            "__________________________________________________________________________________________________\n",
            "res5c_branch2a (Conv2D)         (None, 1, 1, 512)    1049088     activation_389[0][0]             \n",
            "__________________________________________________________________________________________________\n",
            "bn5c_branch2a (BatchNormalizati (None, 1, 1, 512)    2048        res5c_branch2a[0][0]             \n",
            "__________________________________________________________________________________________________\n",
            "activation_390 (Activation)     (None, 1, 1, 512)    0           bn5c_branch2a[0][0]              \n",
            "__________________________________________________________________________________________________\n",
            "res5c_branch2b (Conv2D)         (None, 1, 1, 512)    2359808     activation_390[0][0]             \n",
            "__________________________________________________________________________________________________\n",
            "bn5c_branch2b (BatchNormalizati (None, 1, 1, 512)    2048        res5c_branch2b[0][0]             \n",
            "__________________________________________________________________________________________________\n",
            "activation_391 (Activation)     (None, 1, 1, 512)    0           bn5c_branch2b[0][0]              \n",
            "__________________________________________________________________________________________________\n",
            "res5c_branch2c (Conv2D)         (None, 1, 1, 2048)   1050624     activation_391[0][0]             \n",
            "__________________________________________________________________________________________________\n",
            "bn5c_branch2c (BatchNormalizati (None, 1, 1, 2048)   8192        res5c_branch2c[0][0]             \n",
            "__________________________________________________________________________________________________\n",
            "add_128 (Add)                   (None, 1, 1, 2048)   0           bn5c_branch2c[0][0]              \n",
            "                                                                 activation_389[0][0]             \n",
            "__________________________________________________________________________________________________\n",
            "activation_392 (Activation)     (None, 1, 1, 2048)   0           add_128[0][0]                    \n",
            "__________________________________________________________________________________________________\n",
            "global_average_pooling2d_3 (Glo (None, 2048)         0           activation_392[0][0]             \n",
            "__________________________________________________________________________________________________\n",
            "dense_11 (Dense)                (None, 512)          1049088     global_average_pooling2d_3[0][0] \n",
            "__________________________________________________________________________________________________\n",
            "dense_12 (Dense)                (None, 10)           5130        dense_11[0][0]                   \n",
            "==================================================================================================\n",
            "Total params: 24,641,930\n",
            "Trainable params: 1,054,218\n",
            "Non-trainable params: 23,587,712\n",
            "__________________________________________________________________________________________________\n"
          ],
          "name": "stdout"
        }
      ]
    },
    {
      "cell_type": "code",
      "metadata": {
        "id": "seAX7gZDWf7o",
        "colab_type": "code",
        "colab": {
          "base_uri": "https://localhost:8080/",
          "height": 607
        },
        "outputId": "cfd46da8-71c2-4a76-a521-031a3e06b8d1"
      },
      "source": [
        "# list all data in history\n",
        "print(base_Model_transfer.history.history.keys())\n",
        "# list all data in history\n",
        "print(history.history.keys())\n",
        "# summarize history for accuracy\n",
        "plt.plot(history.history['acc'])\n",
        "plt.plot(history.history['val_acc'])\n",
        "plt.title('model accuracy')\n",
        "plt.ylabel('accuracy')\n",
        "plt.xlabel('epoch')\n",
        "plt.legend(['train', 'test'], loc='upper left')\n",
        "plt.show()\n",
        "# summarize history for loss\n",
        "plt.plot(history.history['loss'])\n",
        "plt.plot(history.history['val_loss'])\n",
        "plt.title('model loss')\n",
        "plt.ylabel('loss')\n",
        "plt.xlabel('epoch')\n",
        "plt.legend(['train', 'test'], loc='upper left')\n",
        "plt.show()\n"
      ],
      "execution_count": 114,
      "outputs": [
        {
          "output_type": "stream",
          "text": [
            "dict_keys(['val_loss', 'val_acc', 'loss', 'acc'])\n",
            "dict_keys(['val_loss', 'val_acc', 'loss', 'acc'])\n"
          ],
          "name": "stdout"
        },
        {
          "output_type": "display_data",
          "data": {
            "image/png": "[encoded data removed]",
            "text/plain": [
              "<Figure size 432x288 with 1 Axes>"
            ]
          },
          "metadata": {
            "tags": []
          }
        },
        {
          "output_type": "display_data",
          "data": {
            "image/png": "[encoded data removed]",
            "text/plain": [
              "<Figure size 432x288 with 1 Axes>"
            ]
          },
          "metadata": {
            "tags": []
          }
        }
      ]
    },
    {
      "cell_type": "code",
      "metadata": {
        "id": "SqKeU4DFWON1",
        "colab_type": "code",
        "colab": {}
      },
      "source": [
        "# Imports the data \n",
        "\n",
        "X_train, y_train = load_mnist('gdrive/My Drive/data/fashion', kind='train')\n",
        "X_test, y_test = load_mnist('gdrive/My Drive/data/fashion', kind='t10k')\n",
        "\n",
        "y_train = y_train.reshape(y_train.shape[0], 1)\n",
        "y_test = y_test.reshape(y_test.shape[0], 1)\n",
        "\n",
        "shape = (28, 28, 1) # Target shape\n",
        "X_train = X_train.reshape(X_train.shape[0], *shape)\n",
        "X_test = X_test.reshape(X_test.shape[0],*shape)\n"
      ],
      "execution_count": 0,
      "outputs": []
    },
    {
      "cell_type": "code",
      "metadata": {
        "id": "u1Pf9W1836uc",
        "colab_type": "code",
        "colab": {
          "base_uri": "https://localhost:8080/",
          "height": 374
        },
        "outputId": "0ff186df-a9a6-46f0-c449-8c9144a9b540"
      },
      "source": [
        "# Custom CNN model with 7 layers\n",
        "custom_CNN = Sequential()\n",
        "custom_CNN.add(Conv2D(filters=32, kernel_size=3, activation='relu', input_shape=[28,28,1], name='Conv2D-1'))\n",
        "custom_CNN.add(Conv2D(filters=128, kernel_size=3, activation='relu', name='Conv2D-2'))\n",
        "custom_CNN.add(MaxPooling2D(pool_size=2, name='MaxPool'))\n",
        "custom_CNN.add(Conv2D(filters=128, kernel_size=3, activation='relu', name='Conv2D-3'))\n",
        "custom_CNN.add(Dropout(0.25, name='Dropout-1'))\n",
        "custom_CNN.add(Flatten(name='flatten'))\n",
        "custom_CNN.add(Dense(10, activation='softmax', name='Output'))\n",
        "custom_CNN.compile(loss='sparse_categorical_crossentropy',\n",
        "             optimizer='adam', metrics=['accuracy'])\n",
        "custom_CNN.summary()"
      ],
      "execution_count": 147,
      "outputs": [
        {
          "output_type": "stream",
          "text": [
            "_________________________________________________________________\n",
            "Layer (type)                 Output Shape              Param #   \n",
            "=================================================================\n",
            "Conv2D-1 (Conv2D)            (None, 26, 26, 32)        320       \n",
            "_________________________________________________________________\n",
            "Conv2D-2 (Conv2D)            (None, 24, 24, 128)       36992     \n",
            "_________________________________________________________________\n",
            "MaxPool (MaxPooling2D)       (None, 12, 12, 128)       0         \n",
            "_________________________________________________________________\n",
            "Conv2D-3 (Conv2D)            (None, 10, 10, 128)       147584    \n",
            "_________________________________________________________________\n",
            "Dropout-1 (Dropout)          (None, 10, 10, 128)       0         \n",
            "_________________________________________________________________\n",
            "flatten (Flatten)            (None, 12800)             0         \n",
            "_________________________________________________________________\n",
            "Output (Dense)               (None, 10)                128010    \n",
            "=================================================================\n",
            "Total params: 312,906\n",
            "Trainable params: 312,906\n",
            "Non-trainable params: 0\n",
            "_________________________________________________________________\n"
          ],
          "name": "stdout"
        }
      ]
    },
    {
      "cell_type": "code",
      "metadata": {
        "id": "d9WPYC2n32TQ",
        "colab_type": "code",
        "colab": {}
      },
      "source": [
        ""
      ],
      "execution_count": 0,
      "outputs": []
    },
    {
      "cell_type": "code",
      "metadata": {
        "id": "Y-0MS4q608mz",
        "colab_type": "code",
        "colab": {}
      },
      "source": [
        "#Model compilation\n",
        "custom_CNN.compile(loss='sparse_categorical_crossentropy',\n",
        "            optimizer='adam',\n",
        "            metrics=['accuracy'])"
      ],
      "execution_count": 0,
      "outputs": []
    },
    {
      "cell_type": "code",
      "metadata": {
        "id": "PMhVlp2T3du0",
        "colab_type": "code",
        "colab": {
          "base_uri": "https://localhost:8080/",
          "height": 1071
        },
        "outputId": "d58c946d-e649-4a1d-d5ae-913d7d0fb0d5"
      },
      "source": [
        "\n",
        "# Model training\n",
        "custom_CNN_history = custom_CNN.fit(X_train, y_train,\n",
        "        batch_size=32, epochs=20,\n",
        "        validation_split=0.2,\n",
        "        verbose=1, shuffle=True)\n",
        "\n",
        "custom_CNN.summary()"
      ],
      "execution_count": 138,
      "outputs": [
        {
          "output_type": "stream",
          "text": [
            "Train on 48000 samples, validate on 12000 samples\n",
            "Epoch 1/20\n",
            "48000/48000 [==============================] - 25s 531us/step - loss: 12.9891 - acc: 0.1939 - val_loss: 12.9254 - val_acc: 0.1981\n",
            "Epoch 2/20\n",
            "48000/48000 [==============================] - 15s 305us/step - loss: 13.4135 - acc: 0.1678 - val_loss: 14.5331 - val_acc: 0.0983\n",
            "Epoch 3/20\n",
            "48000/48000 [==============================] - 14s 298us/step - loss: 14.4996 - acc: 0.1004 - val_loss: 14.5331 - val_acc: 0.0983\n",
            "Epoch 4/20\n",
            "48000/48000 [==============================] - 13s 281us/step - loss: 14.4992 - acc: 0.1004 - val_loss: 14.5331 - val_acc: 0.0983\n",
            "Epoch 5/20\n",
            "48000/48000 [==============================] - 13s 280us/step - loss: 14.4996 - acc: 0.1004 - val_loss: 14.5331 - val_acc: 0.0983\n",
            "Epoch 6/20\n",
            "48000/48000 [==============================] - 14s 291us/step - loss: 14.4996 - acc: 0.1004 - val_loss: 14.5331 - val_acc: 0.0983\n",
            "Epoch 7/20\n",
            "48000/48000 [==============================] - 13s 281us/step - loss: 14.4992 - acc: 0.1004 - val_loss: 14.5331 - val_acc: 0.0983\n",
            "Epoch 8/20\n",
            "48000/48000 [==============================] - 13s 280us/step - loss: 14.4992 - acc: 0.1004 - val_loss: 14.5331 - val_acc: 0.0983\n",
            "Epoch 9/20\n",
            "48000/48000 [==============================] - 14s 299us/step - loss: 14.4992 - acc: 0.1004 - val_loss: 14.5331 - val_acc: 0.0983\n",
            "Epoch 10/20\n",
            "48000/48000 [==============================] - 13s 279us/step - loss: 14.4992 - acc: 0.1004 - val_loss: 14.5331 - val_acc: 0.0983\n",
            "Epoch 11/20\n",
            "48000/48000 [==============================] - 13s 279us/step - loss: 14.4996 - acc: 0.1004 - val_loss: 14.5331 - val_acc: 0.0983\n",
            "Epoch 12/20\n",
            "48000/48000 [==============================] - 13s 278us/step - loss: 14.4996 - acc: 0.1004 - val_loss: 14.5331 - val_acc: 0.0983\n",
            "Epoch 13/20\n",
            "48000/48000 [==============================] - 13s 279us/step - loss: 14.4989 - acc: 0.1005 - val_loss: 14.5331 - val_acc: 0.0983\n",
            "Epoch 14/20\n",
            "48000/48000 [==============================] - 13s 280us/step - loss: 14.4996 - acc: 0.1004 - val_loss: 14.5331 - val_acc: 0.0983\n",
            "Epoch 15/20\n",
            "48000/48000 [==============================] - 14s 300us/step - loss: 14.4999 - acc: 0.1004 - val_loss: 14.5331 - val_acc: 0.0983\n",
            "Epoch 16/20\n",
            "48000/48000 [==============================] - 13s 280us/step - loss: 14.4996 - acc: 0.1004 - val_loss: 14.5331 - val_acc: 0.0983\n",
            "Epoch 17/20\n",
            "48000/48000 [==============================] - 13s 280us/step - loss: 14.4996 - acc: 0.1004 - val_loss: 14.5331 - val_acc: 0.0983\n",
            "Epoch 18/20\n",
            "48000/48000 [==============================] - 13s 281us/step - loss: 14.4996 - acc: 0.1004 - val_loss: 14.5331 - val_acc: 0.0983\n",
            "Epoch 19/20\n",
            "48000/48000 [==============================] - 13s 279us/step - loss: 14.4992 - acc: 0.1004 - val_loss: 14.5331 - val_acc: 0.0983\n",
            "Epoch 20/20\n",
            "48000/48000 [==============================] - 13s 281us/step - loss: 14.4996 - acc: 0.1004 - val_loss: 14.5331 - val_acc: 0.0983\n",
            "_________________________________________________________________\n",
            "Layer (type)                 Output Shape              Param #   \n",
            "=================================================================\n",
            "Conv2D-1 (Conv2D)            (None, 26, 26, 32)        320       \n",
            "_________________________________________________________________\n",
            "Conv2D-2 (Conv2D)            (None, 24, 24, 128)       36992     \n",
            "_________________________________________________________________\n",
            "MaxPool (MaxPooling2D)       (None, 12, 12, 128)       0         \n",
            "_________________________________________________________________\n",
            "Conv2D-3 (Conv2D)            (None, 10, 10, 128)       147584    \n",
            "_________________________________________________________________\n",
            "Dropout-1 (Dropout)          (None, 10, 10, 128)       0         \n",
            "_________________________________________________________________\n",
            "flatten (Flatten)            (None, 12800)             0         \n",
            "_________________________________________________________________\n",
            "Output (Dense)               (None, 10)                128010    \n",
            "=================================================================\n",
            "Total params: 312,906\n",
            "Trainable params: 312,906\n",
            "Non-trainable params: 0\n",
            "_________________________________________________________________\n"
          ],
          "name": "stdout"
        }
      ]
    },
    {
      "cell_type": "code",
      "metadata": {
        "id": "C9V4tdfB3ncU",
        "colab_type": "code",
        "colab": {
          "base_uri": "https://localhost:8080/",
          "height": 607
        },
        "outputId": "d53249bc-a5af-41c6-e541-8db16e0baceb"
      },
      "source": [
        "# list all data in history\n",
        "print(custom_CNN_history.history.keys())\n",
        "# list all data in history\n",
        "print(custom_CNN_history.history.keys())\n",
        "# summarize history for accuracy\n",
        "plt.plot(custom_CNN_history.history['acc'])\n",
        "plt.plot(custom_CNN_history.history['val_acc'])\n",
        "plt.title('model accuracy')\n",
        "plt.ylabel('accuracy')\n",
        "plt.xlabel('epoch')\n",
        "plt.legend(['train', 'test'], loc='upper left')\n",
        "plt.show()\n",
        "# summarize history for loss\n",
        "plt.plot(custom_CNN_history.history['loss'])\n",
        "plt.plot(custom_CNN_history.history['val_loss'])\n",
        "plt.title('model loss')\n",
        "plt.ylabel('loss')\n",
        "plt.xlabel('epoch')\n",
        "plt.legend(['train', 'test'], loc='upper left')\n",
        "plt.show()\n"
      ],
      "execution_count": 139,
      "outputs": [
        {
          "output_type": "stream",
          "text": [
            "dict_keys(['val_loss', 'val_acc', 'loss', 'acc'])\n",
            "dict_keys(['val_loss', 'val_acc', 'loss', 'acc'])\n"
          ],
          "name": "stdout"
        },
        {
          "output_type": "display_data",
          "data": {
            "image/png": "[encoded data removed]",
            "text/plain": [
              "<Figure size 432x288 with 1 Axes>"
            ]
          },
          "metadata": {
            "tags": []
          }
        },
        {
          "output_type": "display_data",
          "data": {
            "image/png": "[encoded data removed]",
            "text/plain": [
              "<Figure size 432x288 with 1 Axes>"
            ]
          },
          "metadata": {
            "tags": []
          }
        }
      ]
    },
    {
      "cell_type": "code",
      "metadata": {
        "id": "0uRQVeT34kc8",
        "colab_type": "code",
        "colab": {}
      },
      "source": [
        "#Model compilation with SGD optimiser\n",
        "custom_CNN.compile(loss='sparse_categorical_crossentropy',\n",
        "            optimizer='SGD',\n",
        "            metrics=['accuracy'])"
      ],
      "execution_count": 0,
      "outputs": []
    },
    {
      "cell_type": "code",
      "metadata": {
        "id": "N9FUQRUTE9zC",
        "colab_type": "code",
        "colab": {
          "base_uri": "https://localhost:8080/",
          "height": 799
        },
        "outputId": "80ddc0b5-96fe-4bec-827d-c57a58bffa10"
      },
      "source": [
        "# Model training\n",
        "custom_CNN_history = custom_CNN.fit(X_train, y_train,\n",
        "        batch_size=20, epochs=12,\n",
        "        validation_split=0.2,\n",
        "        verbose=1, shuffle=True)\n",
        "\n",
        "custom_CNN.summary()"
      ],
      "execution_count": 152,
      "outputs": [
        {
          "output_type": "stream",
          "text": [
            "Train on 48000 samples, validate on 12000 samples\n",
            "Epoch 1/12\n",
            "48000/48000 [==============================] - 21s 430us/step - loss: 14.5043 - acc: 0.1001 - val_loss: 14.5143 - val_acc: 0.0995\n",
            "Epoch 2/12\n",
            "48000/48000 [==============================] - 20s 426us/step - loss: 14.5043 - acc: 0.1001 - val_loss: 14.5143 - val_acc: 0.0995\n",
            "Epoch 3/12\n",
            "48000/48000 [==============================] - 21s 445us/step - loss: 14.5043 - acc: 0.1001 - val_loss: 14.5143 - val_acc: 0.0995\n",
            "Epoch 4/12\n",
            "48000/48000 [==============================] - 22s 459us/step - loss: 14.5043 - acc: 0.1001 - val_loss: 14.5143 - val_acc: 0.0995\n",
            "Epoch 5/12\n",
            "48000/48000 [==============================] - 20s 427us/step - loss: 14.5043 - acc: 0.1001 - val_loss: 14.5143 - val_acc: 0.0995\n",
            "Epoch 6/12\n",
            "48000/48000 [==============================] - 20s 425us/step - loss: 14.5043 - acc: 0.1001 - val_loss: 14.5143 - val_acc: 0.0995\n",
            "Epoch 7/12\n",
            "48000/48000 [==============================] - 21s 447us/step - loss: 14.5043 - acc: 0.1001 - val_loss: 14.5143 - val_acc: 0.0995\n",
            "Epoch 8/12\n",
            "48000/48000 [==============================] - 20s 425us/step - loss: 14.5043 - acc: 0.1001 - val_loss: 14.5143 - val_acc: 0.0995\n",
            "Epoch 9/12\n",
            "48000/48000 [==============================] - 20s 424us/step - loss: 14.5043 - acc: 0.1001 - val_loss: 14.5143 - val_acc: 0.0995\n",
            "Epoch 10/12\n",
            "48000/48000 [==============================] - 20s 425us/step - loss: 14.5043 - acc: 0.1001 - val_loss: 14.5143 - val_acc: 0.0995\n",
            "Epoch 11/12\n",
            "48000/48000 [==============================] - 21s 444us/step - loss: 14.5043 - acc: 0.1001 - val_loss: 14.5143 - val_acc: 0.0995\n",
            "Epoch 12/12\n",
            "48000/48000 [==============================] - 20s 417us/step - loss: 14.5043 - acc: 0.1001 - val_loss: 14.5143 - val_acc: 0.0995\n",
            "_________________________________________________________________\n",
            "Layer (type)                 Output Shape              Param #   \n",
            "=================================================================\n",
            "Conv2D-1 (Conv2D)            (None, 26, 26, 32)        320       \n",
            "_________________________________________________________________\n",
            "Conv2D-2 (Conv2D)            (None, 24, 24, 128)       36992     \n",
            "_________________________________________________________________\n",
            "MaxPool (MaxPooling2D)       (None, 12, 12, 128)       0         \n",
            "_________________________________________________________________\n",
            "Conv2D-3 (Conv2D)            (None, 10, 10, 128)       147584    \n",
            "_________________________________________________________________\n",
            "Dropout-1 (Dropout)          (None, 10, 10, 128)       0         \n",
            "_________________________________________________________________\n",
            "flatten (Flatten)            (None, 12800)             0         \n",
            "_________________________________________________________________\n",
            "Output (Dense)               (None, 10)                128010    \n",
            "=================================================================\n",
            "Total params: 312,906\n",
            "Trainable params: 312,906\n",
            "Non-trainable params: 0\n",
            "_________________________________________________________________\n"
          ],
          "name": "stdout"
        }
      ]
    },
    {
      "cell_type": "code",
      "metadata": {
        "id": "Pw0fLiQfFGOT",
        "colab_type": "code",
        "colab": {
          "base_uri": "https://localhost:8080/",
          "height": 607
        },
        "outputId": "fbfbc742-0784-4fc0-d41d-95813c45515d"
      },
      "source": [
        "# list all data in history\n",
        "print(custom_CNN_history.history.keys())\n",
        "# list all data in history\n",
        "print(custom_CNN_history.history.keys())\n",
        "# summarize history for accuracy\n",
        "plt.plot(custom_CNN_history.history['acc'])\n",
        "plt.plot(custom_CNN_history.history['val_acc'])\n",
        "plt.title('model accuracy for SGD')\n",
        "plt.ylabel('accuracy')\n",
        "plt.xlabel('epoch')\n",
        "plt.legend(['train', 'test'], loc='upper left')\n",
        "plt.show()\n",
        "# summarize history for loss\n",
        "plt.plot(custom_CNN_history.history['loss'])\n",
        "plt.plot(custom_CNN_history.history['val_loss'])\n",
        "plt.title('model loss for SGD')\n",
        "plt.ylabel('loss')\n",
        "plt.xlabel('epoch')\n",
        "plt.legend(['train', 'test'], loc='upper left')\n",
        "plt.show()"
      ],
      "execution_count": 156,
      "outputs": [
        {
          "output_type": "stream",
          "text": [
            "dict_keys(['val_loss', 'val_acc', 'loss', 'acc'])\n",
            "dict_keys(['val_loss', 'val_acc', 'loss', 'acc'])\n"
          ],
          "name": "stdout"
        },
        {
          "output_type": "display_data",
          "data": {
            "image/png": "[encoded data removed]",
            "text/plain": [
              "<Figure size 432x288 with 1 Axes>"
            ]
          },
          "metadata": {
            "tags": []
          }
        },
        {
          "output_type": "display_data",
          "data": {
            "image/png": "[encoded data removed]",
            "text/plain": [
              "<Figure size 432x288 with 1 Axes>"
            ]
          },
          "metadata": {
            "tags": []
          }
        }
      ]
    },
    {
      "cell_type": "code",
      "metadata": {
        "id": "L3rmGFsRLp1M",
        "colab_type": "code",
        "colab": {}
      },
      "source": [
        ""
      ],
      "execution_count": 0,
      "outputs": []
    },
    {
      "cell_type": "code",
      "metadata": {
        "id": "WR6x7YhVIJTF",
        "colab_type": "code",
        "colab": {}
      },
      "source": [
        ""
      ],
      "execution_count": 0,
      "outputs": []
    },
    {
      "cell_type": "code",
      "metadata": {
        "id": "2wNZ8sdRLoNt",
        "colab_type": "code",
        "colab": {}
      },
      "source": [
        ""
      ],
      "execution_count": 0,
      "outputs": []
    },
    {
      "cell_type": "code",
      "metadata": {
        "id": "RHsv1nYCLYps",
        "colab_type": "code",
        "colab": {}
      },
      "source": [
        ""
      ],
      "execution_count": 0,
      "outputs": []
    },
    {
      "cell_type": "code",
      "metadata": {
        "id": "rpmtavA_KeB7",
        "colab_type": "code",
        "colab": {}
      },
      "source": [
        ""
      ],
      "execution_count": 0,
      "outputs": []
    },
    {
      "cell_type": "code",
      "metadata": {
        "id": "eGA9bVsYKrHb",
        "colab_type": "code",
        "colab": {}
      },
      "source": [
        ""
      ],
      "execution_count": 0,
      "outputs": []
    },
    {
      "cell_type": "code",
      "metadata": {
        "id": "UCnA3ktwLBKG",
        "colab_type": "code",
        "colab": {}
      },
      "source": [
        ""
      ],
      "execution_count": 0,
      "outputs": []
    }
  ]
}